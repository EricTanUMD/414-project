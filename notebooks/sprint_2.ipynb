{
 "cells": [
  {
   "cell_type": "markdown",
   "metadata": {},
   "source": [
    "Data aquired from https://www.kaggle.com/datasets/shashwatwork/depression-and-mental-health-data-analysis/data "
   ]
  },
  {
   "cell_type": "code",
   "execution_count": 1,
   "metadata": {},
   "outputs": [],
   "source": [
    "import pandas as pd\n",
    "import numpy as np\n",
    "import seaborn as sns # for data viz for handling outliers\n",
    "import matplotlib.pyplot as plt # for data viz\n",
    "import scipy.stats as stats\n",
    "import os"
   ]
  },
  {
   "cell_type": "code",
   "execution_count": 4,
   "metadata": {},
   "outputs": [
    {
     "name": "stdout",
     "output_type": "stream",
     "text": [
      "c:\\Users\\erict\\Downloads\\Courses\\Spring 2025\\INST414\\414 project\n"
     ]
    }
   ],
   "source": [
    "# change directory to data folder\n",
    "print(os.getcwd())\n",
    "#os.listdir()\n",
    "# os.chdir('..')"
   ]
  },
  {
   "cell_type": "code",
   "execution_count": 5,
   "metadata": {},
   "outputs": [],
   "source": [
    "# read in my dataset\n",
    "df = pd.read_csv(\"data/processed/Mental_Health_Dataset.csv\")"
   ]
  },
  {
   "cell_type": "code",
   "execution_count": 37,
   "metadata": {},
   "outputs": [
    {
     "data": {
      "text/html": [
       "<div>\n",
       "<style scoped>\n",
       "    .dataframe tbody tr th:only-of-type {\n",
       "        vertical-align: middle;\n",
       "    }\n",
       "\n",
       "    .dataframe tbody tr th {\n",
       "        vertical-align: top;\n",
       "    }\n",
       "\n",
       "    .dataframe thead th {\n",
       "        text-align: right;\n",
       "    }\n",
       "</style>\n",
       "<table border=\"1\" class=\"dataframe\">\n",
       "  <thead>\n",
       "    <tr style=\"text-align: right;\">\n",
       "      <th></th>\n",
       "      <th>Timestamp</th>\n",
       "      <th>Gender</th>\n",
       "      <th>Country</th>\n",
       "      <th>Occupation</th>\n",
       "      <th>self_employed</th>\n",
       "      <th>family_history</th>\n",
       "      <th>treatment</th>\n",
       "      <th>Days_Indoors</th>\n",
       "      <th>Growing_Stress</th>\n",
       "      <th>Changes_Habits</th>\n",
       "      <th>Mental_Health_History</th>\n",
       "      <th>Mood_Swings</th>\n",
       "      <th>Coping_Struggles</th>\n",
       "      <th>Work_Interest</th>\n",
       "      <th>Social_Weakness</th>\n",
       "      <th>mental_health_interview</th>\n",
       "      <th>care_options</th>\n",
       "    </tr>\n",
       "  </thead>\n",
       "  <tbody>\n",
       "    <tr>\n",
       "      <th>0</th>\n",
       "      <td>8/27/2014 11:29</td>\n",
       "      <td>Female</td>\n",
       "      <td>United States</td>\n",
       "      <td>Corporate</td>\n",
       "      <td>NaN</td>\n",
       "      <td>No</td>\n",
       "      <td>Yes</td>\n",
       "      <td>1-14 days</td>\n",
       "      <td>Yes</td>\n",
       "      <td>No</td>\n",
       "      <td>Yes</td>\n",
       "      <td>Medium</td>\n",
       "      <td>No</td>\n",
       "      <td>No</td>\n",
       "      <td>Yes</td>\n",
       "      <td>No</td>\n",
       "      <td>Not sure</td>\n",
       "    </tr>\n",
       "    <tr>\n",
       "      <th>1</th>\n",
       "      <td>8/27/2014 11:31</td>\n",
       "      <td>Female</td>\n",
       "      <td>United States</td>\n",
       "      <td>Corporate</td>\n",
       "      <td>NaN</td>\n",
       "      <td>Yes</td>\n",
       "      <td>Yes</td>\n",
       "      <td>1-14 days</td>\n",
       "      <td>Yes</td>\n",
       "      <td>No</td>\n",
       "      <td>Yes</td>\n",
       "      <td>Medium</td>\n",
       "      <td>No</td>\n",
       "      <td>No</td>\n",
       "      <td>Yes</td>\n",
       "      <td>No</td>\n",
       "      <td>No</td>\n",
       "    </tr>\n",
       "    <tr>\n",
       "      <th>2</th>\n",
       "      <td>8/27/2014 11:32</td>\n",
       "      <td>Female</td>\n",
       "      <td>United States</td>\n",
       "      <td>Corporate</td>\n",
       "      <td>NaN</td>\n",
       "      <td>Yes</td>\n",
       "      <td>Yes</td>\n",
       "      <td>1-14 days</td>\n",
       "      <td>Yes</td>\n",
       "      <td>No</td>\n",
       "      <td>Yes</td>\n",
       "      <td>Medium</td>\n",
       "      <td>No</td>\n",
       "      <td>No</td>\n",
       "      <td>Yes</td>\n",
       "      <td>No</td>\n",
       "      <td>Yes</td>\n",
       "    </tr>\n",
       "    <tr>\n",
       "      <th>3</th>\n",
       "      <td>8/27/2014 11:37</td>\n",
       "      <td>Female</td>\n",
       "      <td>United States</td>\n",
       "      <td>Corporate</td>\n",
       "      <td>No</td>\n",
       "      <td>Yes</td>\n",
       "      <td>Yes</td>\n",
       "      <td>1-14 days</td>\n",
       "      <td>Yes</td>\n",
       "      <td>No</td>\n",
       "      <td>Yes</td>\n",
       "      <td>Medium</td>\n",
       "      <td>No</td>\n",
       "      <td>No</td>\n",
       "      <td>Yes</td>\n",
       "      <td>Maybe</td>\n",
       "      <td>Yes</td>\n",
       "    </tr>\n",
       "    <tr>\n",
       "      <th>4</th>\n",
       "      <td>8/27/2014 11:43</td>\n",
       "      <td>Female</td>\n",
       "      <td>United States</td>\n",
       "      <td>Corporate</td>\n",
       "      <td>No</td>\n",
       "      <td>Yes</td>\n",
       "      <td>Yes</td>\n",
       "      <td>1-14 days</td>\n",
       "      <td>Yes</td>\n",
       "      <td>No</td>\n",
       "      <td>Yes</td>\n",
       "      <td>Medium</td>\n",
       "      <td>No</td>\n",
       "      <td>No</td>\n",
       "      <td>Yes</td>\n",
       "      <td>No</td>\n",
       "      <td>Yes</td>\n",
       "    </tr>\n",
       "  </tbody>\n",
       "</table>\n",
       "</div>"
      ],
      "text/plain": [
       "         Timestamp  Gender        Country Occupation self_employed  \\\n",
       "0  8/27/2014 11:29  Female  United States  Corporate           NaN   \n",
       "1  8/27/2014 11:31  Female  United States  Corporate           NaN   \n",
       "2  8/27/2014 11:32  Female  United States  Corporate           NaN   \n",
       "3  8/27/2014 11:37  Female  United States  Corporate            No   \n",
       "4  8/27/2014 11:43  Female  United States  Corporate            No   \n",
       "\n",
       "  family_history treatment Days_Indoors Growing_Stress Changes_Habits  \\\n",
       "0             No       Yes    1-14 days            Yes             No   \n",
       "1            Yes       Yes    1-14 days            Yes             No   \n",
       "2            Yes       Yes    1-14 days            Yes             No   \n",
       "3            Yes       Yes    1-14 days            Yes             No   \n",
       "4            Yes       Yes    1-14 days            Yes             No   \n",
       "\n",
       "  Mental_Health_History Mood_Swings Coping_Struggles Work_Interest  \\\n",
       "0                   Yes      Medium               No            No   \n",
       "1                   Yes      Medium               No            No   \n",
       "2                   Yes      Medium               No            No   \n",
       "3                   Yes      Medium               No            No   \n",
       "4                   Yes      Medium               No            No   \n",
       "\n",
       "  Social_Weakness mental_health_interview care_options  \n",
       "0             Yes                      No     Not sure  \n",
       "1             Yes                      No           No  \n",
       "2             Yes                      No          Yes  \n",
       "3             Yes                   Maybe          Yes  \n",
       "4             Yes                      No          Yes  "
      ]
     },
     "execution_count": 37,
     "metadata": {},
     "output_type": "execute_result"
    }
   ],
   "source": [
    "# Check the first few rows of the dataframe\n",
    "df.head()"
   ]
  },
  {
   "cell_type": "code",
   "execution_count": 8,
   "metadata": {},
   "outputs": [
    {
     "data": {
      "text/html": [
       "<div>\n",
       "<style scoped>\n",
       "    .dataframe tbody tr th:only-of-type {\n",
       "        vertical-align: middle;\n",
       "    }\n",
       "\n",
       "    .dataframe tbody tr th {\n",
       "        vertical-align: top;\n",
       "    }\n",
       "\n",
       "    .dataframe thead th {\n",
       "        text-align: right;\n",
       "    }\n",
       "</style>\n",
       "<table border=\"1\" class=\"dataframe\">\n",
       "  <thead>\n",
       "    <tr style=\"text-align: right;\">\n",
       "      <th></th>\n",
       "      <th>Gender</th>\n",
       "      <th>Country</th>\n",
       "      <th>Occupation</th>\n",
       "      <th>self_employed</th>\n",
       "      <th>family_history</th>\n",
       "      <th>treatment</th>\n",
       "      <th>Days_Indoors</th>\n",
       "      <th>Growing_Stress</th>\n",
       "      <th>Changes_Habits</th>\n",
       "      <th>Mental_Health_History</th>\n",
       "      <th>Mood_Swings</th>\n",
       "      <th>Coping_Struggles</th>\n",
       "      <th>Work_Interest</th>\n",
       "      <th>Social_Weakness</th>\n",
       "      <th>mental_health_interview</th>\n",
       "      <th>care_options</th>\n",
       "    </tr>\n",
       "  </thead>\n",
       "  <tbody>\n",
       "    <tr>\n",
       "      <th>0</th>\n",
       "      <td>Female</td>\n",
       "      <td>United States</td>\n",
       "      <td>Corporate</td>\n",
       "      <td>No</td>\n",
       "      <td>No</td>\n",
       "      <td>Yes</td>\n",
       "      <td>1-14 days</td>\n",
       "      <td>Yes</td>\n",
       "      <td>No</td>\n",
       "      <td>Yes</td>\n",
       "      <td>Medium</td>\n",
       "      <td>No</td>\n",
       "      <td>No</td>\n",
       "      <td>Yes</td>\n",
       "      <td>No</td>\n",
       "      <td>Not sure</td>\n",
       "    </tr>\n",
       "    <tr>\n",
       "      <th>1</th>\n",
       "      <td>Female</td>\n",
       "      <td>United States</td>\n",
       "      <td>Corporate</td>\n",
       "      <td>No</td>\n",
       "      <td>Yes</td>\n",
       "      <td>Yes</td>\n",
       "      <td>1-14 days</td>\n",
       "      <td>Yes</td>\n",
       "      <td>No</td>\n",
       "      <td>Yes</td>\n",
       "      <td>Medium</td>\n",
       "      <td>No</td>\n",
       "      <td>No</td>\n",
       "      <td>Yes</td>\n",
       "      <td>No</td>\n",
       "      <td>No</td>\n",
       "    </tr>\n",
       "    <tr>\n",
       "      <th>2</th>\n",
       "      <td>Female</td>\n",
       "      <td>United States</td>\n",
       "      <td>Corporate</td>\n",
       "      <td>No</td>\n",
       "      <td>Yes</td>\n",
       "      <td>Yes</td>\n",
       "      <td>1-14 days</td>\n",
       "      <td>Yes</td>\n",
       "      <td>No</td>\n",
       "      <td>Yes</td>\n",
       "      <td>Medium</td>\n",
       "      <td>No</td>\n",
       "      <td>No</td>\n",
       "      <td>Yes</td>\n",
       "      <td>No</td>\n",
       "      <td>Yes</td>\n",
       "    </tr>\n",
       "    <tr>\n",
       "      <th>3</th>\n",
       "      <td>Female</td>\n",
       "      <td>United States</td>\n",
       "      <td>Corporate</td>\n",
       "      <td>No</td>\n",
       "      <td>Yes</td>\n",
       "      <td>Yes</td>\n",
       "      <td>1-14 days</td>\n",
       "      <td>Yes</td>\n",
       "      <td>No</td>\n",
       "      <td>Yes</td>\n",
       "      <td>Medium</td>\n",
       "      <td>No</td>\n",
       "      <td>No</td>\n",
       "      <td>Yes</td>\n",
       "      <td>Maybe</td>\n",
       "      <td>Yes</td>\n",
       "    </tr>\n",
       "    <tr>\n",
       "      <th>4</th>\n",
       "      <td>Female</td>\n",
       "      <td>United States</td>\n",
       "      <td>Corporate</td>\n",
       "      <td>No</td>\n",
       "      <td>Yes</td>\n",
       "      <td>Yes</td>\n",
       "      <td>1-14 days</td>\n",
       "      <td>Yes</td>\n",
       "      <td>No</td>\n",
       "      <td>Yes</td>\n",
       "      <td>Medium</td>\n",
       "      <td>No</td>\n",
       "      <td>No</td>\n",
       "      <td>Yes</td>\n",
       "      <td>No</td>\n",
       "      <td>Yes</td>\n",
       "    </tr>\n",
       "  </tbody>\n",
       "</table>\n",
       "</div>"
      ],
      "text/plain": [
       "   Gender        Country Occupation self_employed family_history treatment  \\\n",
       "0  Female  United States  Corporate            No             No       Yes   \n",
       "1  Female  United States  Corporate            No            Yes       Yes   \n",
       "2  Female  United States  Corporate            No            Yes       Yes   \n",
       "3  Female  United States  Corporate            No            Yes       Yes   \n",
       "4  Female  United States  Corporate            No            Yes       Yes   \n",
       "\n",
       "  Days_Indoors Growing_Stress Changes_Habits Mental_Health_History  \\\n",
       "0    1-14 days            Yes             No                   Yes   \n",
       "1    1-14 days            Yes             No                   Yes   \n",
       "2    1-14 days            Yes             No                   Yes   \n",
       "3    1-14 days            Yes             No                   Yes   \n",
       "4    1-14 days            Yes             No                   Yes   \n",
       "\n",
       "  Mood_Swings Coping_Struggles Work_Interest Social_Weakness  \\\n",
       "0      Medium               No            No             Yes   \n",
       "1      Medium               No            No             Yes   \n",
       "2      Medium               No            No             Yes   \n",
       "3      Medium               No            No             Yes   \n",
       "4      Medium               No            No             Yes   \n",
       "\n",
       "  mental_health_interview care_options  \n",
       "0                      No     Not sure  \n",
       "1                      No           No  \n",
       "2                      No          Yes  \n",
       "3                   Maybe          Yes  \n",
       "4                      No          Yes  "
      ]
     },
     "execution_count": 8,
     "metadata": {},
     "output_type": "execute_result"
    }
   ],
   "source": [
    "# remove the timestamp column\n",
    "df = df.drop(columns=[\"Timestamp\"])\n",
    "# Check the first few rows of the dataframe \n",
    "df.head()"
   ]
  },
  {
   "cell_type": "code",
   "execution_count": 6,
   "metadata": {},
   "outputs": [
    {
     "name": "stderr",
     "output_type": "stream",
     "text": [
      "C:\\Users\\erict\\AppData\\Local\\Temp\\ipykernel_31028\\2612641051.py:4: FutureWarning: A value is trying to be set on a copy of a DataFrame or Series through chained assignment using an inplace method.\n",
      "The behavior will change in pandas 3.0. This inplace method will never work because the intermediate object on which we are setting values always behaves as a copy.\n",
      "\n",
      "For example, when doing 'df[col].method(value, inplace=True)', try using 'df.method({col: value}, inplace=True)' or df[col] = df[col].method(value) instead, to perform the operation inplace on the original object.\n",
      "\n",
      "\n",
      "  df[\"self_employed\"].fillna(\"No\", inplace=True)\n"
     ]
    },
    {
     "data": {
      "text/plain": [
       "self_employed\n",
       "No     263196\n",
       "Yes     29168\n",
       "Name: count, dtype: int64"
      ]
     },
     "execution_count": 6,
     "metadata": {},
     "output_type": "execute_result"
    }
   ],
   "source": [
    "# check for null values\n",
    "df.isnull().sum()\n",
    "# impute the missing self_employed values with \"No\"\n",
    "df[\"self_employed\"].fillna(\"No\", inplace=True)\n",
    "# check for null values again\n",
    "df['self_employed'].value_counts()"
   ]
  },
  {
   "cell_type": "code",
   "execution_count": 40,
   "metadata": {},
   "outputs": [
    {
     "data": {
      "text/html": [
       "<div>\n",
       "<style scoped>\n",
       "    .dataframe tbody tr th:only-of-type {\n",
       "        vertical-align: middle;\n",
       "    }\n",
       "\n",
       "    .dataframe tbody tr th {\n",
       "        vertical-align: top;\n",
       "    }\n",
       "\n",
       "    .dataframe thead th {\n",
       "        text-align: right;\n",
       "    }\n",
       "</style>\n",
       "<table border=\"1\" class=\"dataframe\">\n",
       "  <thead>\n",
       "    <tr style=\"text-align: right;\">\n",
       "      <th></th>\n",
       "      <th>Gender</th>\n",
       "      <th>Country</th>\n",
       "      <th>Occupation</th>\n",
       "      <th>self_employed</th>\n",
       "      <th>family_history</th>\n",
       "      <th>treatment</th>\n",
       "      <th>Days_Indoors</th>\n",
       "      <th>Growing_Stress</th>\n",
       "      <th>Changes_Habits</th>\n",
       "      <th>Mental_Health_History</th>\n",
       "      <th>Mood_Swings</th>\n",
       "      <th>Coping_Struggles</th>\n",
       "      <th>Work_Interest</th>\n",
       "      <th>Social_Weakness</th>\n",
       "      <th>mental_health_interview</th>\n",
       "      <th>care_options</th>\n",
       "    </tr>\n",
       "  </thead>\n",
       "  <tbody>\n",
       "    <tr>\n",
       "      <th>count</th>\n",
       "      <td>292364</td>\n",
       "      <td>292364</td>\n",
       "      <td>292364</td>\n",
       "      <td>292364</td>\n",
       "      <td>292364</td>\n",
       "      <td>292364</td>\n",
       "      <td>292364</td>\n",
       "      <td>292364</td>\n",
       "      <td>292364</td>\n",
       "      <td>292364</td>\n",
       "      <td>292364</td>\n",
       "      <td>292364</td>\n",
       "      <td>292364</td>\n",
       "      <td>292364</td>\n",
       "      <td>292364</td>\n",
       "      <td>292364</td>\n",
       "    </tr>\n",
       "    <tr>\n",
       "      <th>unique</th>\n",
       "      <td>2</td>\n",
       "      <td>35</td>\n",
       "      <td>5</td>\n",
       "      <td>2</td>\n",
       "      <td>2</td>\n",
       "      <td>2</td>\n",
       "      <td>5</td>\n",
       "      <td>3</td>\n",
       "      <td>3</td>\n",
       "      <td>3</td>\n",
       "      <td>3</td>\n",
       "      <td>2</td>\n",
       "      <td>3</td>\n",
       "      <td>3</td>\n",
       "      <td>3</td>\n",
       "      <td>3</td>\n",
       "    </tr>\n",
       "    <tr>\n",
       "      <th>top</th>\n",
       "      <td>Male</td>\n",
       "      <td>United States</td>\n",
       "      <td>Housewife</td>\n",
       "      <td>No</td>\n",
       "      <td>No</td>\n",
       "      <td>Yes</td>\n",
       "      <td>1-14 days</td>\n",
       "      <td>Maybe</td>\n",
       "      <td>Yes</td>\n",
       "      <td>No</td>\n",
       "      <td>Medium</td>\n",
       "      <td>No</td>\n",
       "      <td>No</td>\n",
       "      <td>Maybe</td>\n",
       "      <td>No</td>\n",
       "      <td>No</td>\n",
       "    </tr>\n",
       "    <tr>\n",
       "      <th>freq</th>\n",
       "      <td>239850</td>\n",
       "      <td>171308</td>\n",
       "      <td>66351</td>\n",
       "      <td>263196</td>\n",
       "      <td>176832</td>\n",
       "      <td>147606</td>\n",
       "      <td>63548</td>\n",
       "      <td>99985</td>\n",
       "      <td>109523</td>\n",
       "      <td>104018</td>\n",
       "      <td>101064</td>\n",
       "      <td>154328</td>\n",
       "      <td>105843</td>\n",
       "      <td>103393</td>\n",
       "      <td>232166</td>\n",
       "      <td>118886</td>\n",
       "    </tr>\n",
       "  </tbody>\n",
       "</table>\n",
       "</div>"
      ],
      "text/plain": [
       "        Gender        Country Occupation self_employed family_history  \\\n",
       "count   292364         292364     292364        292364         292364   \n",
       "unique       2             35          5             2              2   \n",
       "top       Male  United States  Housewife            No             No   \n",
       "freq    239850         171308      66351        263196         176832   \n",
       "\n",
       "       treatment Days_Indoors Growing_Stress Changes_Habits  \\\n",
       "count     292364       292364         292364         292364   \n",
       "unique         2            5              3              3   \n",
       "top          Yes    1-14 days          Maybe            Yes   \n",
       "freq      147606        63548          99985         109523   \n",
       "\n",
       "       Mental_Health_History Mood_Swings Coping_Struggles Work_Interest  \\\n",
       "count                 292364      292364           292364        292364   \n",
       "unique                     3           3                2             3   \n",
       "top                       No      Medium               No            No   \n",
       "freq                  104018      101064           154328        105843   \n",
       "\n",
       "       Social_Weakness mental_health_interview care_options  \n",
       "count           292364                  292364       292364  \n",
       "unique               3                       3            3  \n",
       "top              Maybe                      No           No  \n",
       "freq            103393                  232166       118886  "
      ]
     },
     "execution_count": 40,
     "metadata": {},
     "output_type": "execute_result"
    }
   ],
   "source": [
    "# Summary statistics of the filtered dataset\n",
    "df.describe()"
   ]
  },
  {
   "cell_type": "markdown",
   "metadata": {},
   "source": [
    "Observations\n",
    "Age:\n",
    "After filtering, there is only one age-group as to be expected.\n",
    "\n",
    "Gender:\n",
    "There are two genders (presumably male and female). The most frequent gender is \"Female,\" with 110 occurrences.\n",
    "\n",
    "Occupation:\n",
    "There are five occupation categories. The most frequent occupation is \"Student,\" with 53 occurrences.\n",
    "\n",
    "Days Indoors:\n",
    "There are five categories indicating the number of days spent indoors. The most frequent category is \"Go out Everyday\" with 53 occurrences.\n",
    "\n",
    "Growing Stress:\n",
    "There are three categories indicating the presence of growing stress. The most frequent response is \"Yes,\" with 76 occurrences.\n",
    "\n",
    "Quarantine Frustrations:\n",
    "There are three categories indicating the presence of quarantine frustrations. The most frequent response is \"Yes,\" with 90 occurrences.\n",
    "\n",
    "Changes in Habits:\n",
    "There are three categories indicating whether there have been changes in habits. The most frequent response is \"Yes,\" with 75 occurrences.\n",
    "\n",
    "Mental Health History:\n",
    "There are three categories related to mental health history. The most frequent response is \"Maybe,\" with 80 occurrences.\n",
    "\n",
    "Weight Change:\n",
    "There are three categories indicating whether there has been a weight change. The most frequent response is \"No,\" with 80 occurrences.\n",
    "\n",
    "Mood Swings:\n",
    "There are three categories indicating the presence of mood swings. The most frequent response is \"Low,\" with 79 occurrences.\n",
    "\n",
    "Coping Struggles:\n",
    "There are two categories indicating coping struggles. The most frequent response is \"Yes,\" with 106 occurrences.\n",
    "\n",
    "Work Interest:\n",
    "There are three categories related to work interest. The most frequent response is \"Maybe,\" with 77 occurrences.\n",
    "\n",
    "Social Weakness:\n",
    "There are three categories indicating social weakness. The most frequent response is \"Maybe,\" with 85 occurrences."
   ]
  },
  {
   "cell_type": "code",
   "execution_count": 41,
   "metadata": {},
   "outputs": [
    {
     "data": {
      "image/png": "[encoded data removed]",
      "text/plain": [
       "<Figure size 800x800 with 1 Axes>"
      ]
     },
     "metadata": {},
     "output_type": "display_data"
    }
   ],
   "source": [
    "# Pie chart for the distribution of Gender in the filtered dataset\n",
    "plt.figure(figsize=(8, 8))\n",
    "df['Gender'].value_counts().plot(kind='pie', autopct='%1.1f%%', startangle=90)\n",
    "\n",
    "plt.title('Distribution of Gender')\n",
    "plt.ylabel('')  \n",
    "\n",
    "plt.show()"
   ]
  },
  {
   "cell_type": "code",
   "execution_count": 42,
   "metadata": {},
   "outputs": [
    {
     "name": "stderr",
     "output_type": "stream",
     "text": [
      "C:\\Users\\erict\\AppData\\Local\\Temp\\ipykernel_17472\\3763910539.py:4: FutureWarning: \n",
      "\n",
      "Passing `palette` without assigning `hue` is deprecated and will be removed in v0.14.0. Assign the `y` variable to `hue` and set `legend=False` for the same effect.\n",
      "\n",
      "  sns.countplot(y='Occupation', data=df, palette='viridis')\n"
     ]
    },
    {
     "data": {
      "image/png": "[encoded data removed]",
      "text/plain": [
       "<Figure size 1000x600 with 1 Axes>"
      ]
     },
     "metadata": {},
     "output_type": "display_data"
    }
   ],
   "source": [
    "# Countplot for the distribution of Occupation in the filtered dataset\n",
    "plt.figure(figsize=(10, 6))\n",
    "\n",
    "sns.countplot(y='Occupation', data=df, palette='viridis')\n",
    "plt.title('Distribution of Occupation')\n",
    "plt.xlabel('Count')\n",
    "plt.ylabel('Occupation')\n",
    "plt.show()"
   ]
  },
  {
   "cell_type": "code",
   "execution_count": 44,
   "metadata": {},
   "outputs": [
    {
     "name": "stderr",
     "output_type": "stream",
     "text": [
      "C:\\Users\\erict\\AppData\\Local\\Temp\\ipykernel_17472\\3282873826.py:3: FutureWarning: \n",
      "\n",
      "Passing `palette` without assigning `hue` is deprecated and will be removed in v0.14.0. Assign the `x` variable to `hue` and set `legend=False` for the same effect.\n",
      "\n",
      "  sns.countplot(x='Growing_Stress', data=df, palette='viridis')\n"
     ]
    },
    {
     "data": {
      "image/png": "[encoded data removed]",
      "text/plain": [
       "<Figure size 800x600 with 1 Axes>"
      ]
     },
     "metadata": {},
     "output_type": "display_data"
    }
   ],
   "source": [
    "# Bar plot for the distribution of growing stress in the filtered dataset\n",
    "plt.figure(figsize=(8, 6))\n",
    "sns.countplot(x='Growing_Stress', data=df, palette='viridis')\n",
    "plt.title('Distribution of Growing Stress')\n",
    "plt.xlabel('Growing Stress')\n",
    "plt.ylabel('Count')\n",
    "plt.show()"
   ]
  },
  {
   "cell_type": "code",
   "execution_count": 45,
   "metadata": {},
   "outputs": [
    {
     "name": "stderr",
     "output_type": "stream",
     "text": [
      "C:\\Users\\erict\\AppData\\Local\\Temp\\ipykernel_17472\\3395880154.py:3: FutureWarning: \n",
      "\n",
      "Passing `palette` without assigning `hue` is deprecated and will be removed in v0.14.0. Assign the `x` variable to `hue` and set `legend=False` for the same effect.\n",
      "\n",
      "  sns.countplot(x='Mental_Health_History', data=df, palette='viridis')\n"
     ]
    },
    {
     "data": {
      "image/png": "[encoded data removed]",
      "text/plain": [
       "<Figure size 800x600 with 1 Axes>"
      ]
     },
     "metadata": {},
     "output_type": "display_data"
    }
   ],
   "source": [
    "# Bar plot for the distribution of Weight Change in the filtered dataset\n",
    "plt.figure(figsize=(8, 6))\n",
    "sns.countplot(x='Mental_Health_History', data=df, palette='viridis')\n",
    "plt.title('Distribution of Personal Mental Health History')\n",
    "plt.xlabel('Personal Mental Health History')\n",
    "plt.ylabel('Count')\n",
    "plt.show()"
   ]
  },
  {
   "cell_type": "code",
   "execution_count": 46,
   "metadata": {},
   "outputs": [
    {
     "name": "stderr",
     "output_type": "stream",
     "text": [
      "C:\\Users\\erict\\AppData\\Local\\Temp\\ipykernel_17472\\2568697310.py:3: FutureWarning: \n",
      "\n",
      "Passing `palette` without assigning `hue` is deprecated and will be removed in v0.14.0. Assign the `x` variable to `hue` and set `legend=False` for the same effect.\n",
      "\n",
      "  sns.countplot(x='Coping_Struggles', data=df, palette='viridis')\n"
     ]
    },
    {
     "data": {
      "image/png": "[encoded data removed]",
      "text/plain": [
       "<Figure size 800x600 with 1 Axes>"
      ]
     },
     "metadata": {},
     "output_type": "display_data"
    }
   ],
   "source": [
    "# Distribution of coping struggles\n",
    "plt.figure(figsize=(8, 6))\n",
    "sns.countplot(x='Coping_Struggles', data=df, palette='viridis')\n",
    "plt.title('Distribution of Coping Struggles')\n",
    "plt.xlabel('Coping Struggles')\n",
    "plt.ylabel('Count')\n",
    "plt.show()"
   ]
  },
  {
   "cell_type": "code",
   "execution_count": 47,
   "metadata": {},
   "outputs": [
    {
     "name": "stderr",
     "output_type": "stream",
     "text": [
      "C:\\Users\\erict\\AppData\\Local\\Temp\\ipykernel_17472\\666275591.py:3: FutureWarning: \n",
      "\n",
      "Passing `palette` without assigning `hue` is deprecated and will be removed in v0.14.0. Assign the `x` variable to `hue` and set `legend=False` for the same effect.\n",
      "\n",
      "  sns.countplot(x='Mood_Swings', data=df, palette='viridis')\n"
     ]
    },
    {
     "data": {
      "image/png": "[encoded data removed]",
      "text/plain": [
       "<Figure size 800x600 with 1 Axes>"
      ]
     },
     "metadata": {},
     "output_type": "display_data"
    }
   ],
   "source": [
    "# Bar plot for distribution of mood swings\n",
    "plt.figure(figsize=(8, 6))\n",
    "sns.countplot(x='Mood_Swings', data=df, palette='viridis')\n",
    "plt.title('Distribution of Mood Swings')\n",
    "plt.xlabel('Mood Swings')\n",
    "plt.ylabel('Count')\n",
    "plt.show()"
   ]
  },
  {
   "cell_type": "code",
   "execution_count": 48,
   "metadata": {},
   "outputs": [
    {
     "name": "stdout",
     "output_type": "stream",
     "text": [
      "Chi-Square Statistic: 3560.398894133638, p-value: 0.0\n"
     ]
    }
   ],
   "source": [
    "contingency_table = pd.crosstab(df['Occupation'], df['Growing_Stress'])\n",
    "\n",
    "# Perform Chi-Square Test for occupation and growing stress\n",
    "chi2, p, dof, expected = stats.chi2_contingency(contingency_table)\n",
    "print(f\"Chi-Square Statistic: {chi2}, p-value: {p}\")"
   ]
  },
  {
   "cell_type": "code",
   "execution_count": 49,
   "metadata": {},
   "outputs": [
    {
     "name": "stdout",
     "output_type": "stream",
     "text": [
      "Chi-Square Statistic: 729.6179084536424, p-value: 3.676920419230136e-159\n"
     ]
    }
   ],
   "source": [
    "contingency_table = pd.crosstab(df['Coping_Struggles'], df['Mental_Health_History'])\n",
    "\n",
    "# Perform Chi-Square Test for coping struggles and mental health history\n",
    "chi2, p, dof, expected = stats.chi2_contingency(contingency_table)\n",
    "print(f\"Chi-Square Statistic: {chi2}, p-value: {p}\")"
   ]
  },
  {
   "cell_type": "code",
   "execution_count": 50,
   "metadata": {},
   "outputs": [
    {
     "name": "stdout",
     "output_type": "stream",
     "text": [
      "Chi-Square Statistic: 1334.131411640537, p-value: 1.323927105497502e-287\n"
     ]
    }
   ],
   "source": [
    "contingency_table = pd.crosstab(df['Mood_Swings'], df['Growing_Stress'])\n",
    "\n",
    "# Perform Chi-Square Test for mood swings and growing stress\n",
    "chi2, p, dof, expected = stats.chi2_contingency(contingency_table)\n",
    "print(f\"Chi-Square Statistic: {chi2}, p-value: {p}\")"
   ]
  },
  {
   "cell_type": "code",
   "execution_count": 51,
   "metadata": {},
   "outputs": [
    {
     "name": "stdout",
     "output_type": "stream",
     "text": [
      "Chi-Square Statistic: 310.83225029432833, p-value: 4.987879727729424e-66\n"
     ]
    }
   ],
   "source": [
    "contingency_table = pd.crosstab(df['Mental_Health_History'], df['Growing_Stress'])\n",
    "\n",
    "# Perform Chi-Square Test for mental health history and growing stress\n",
    "chi2, p, dof, expected = stats.chi2_contingency(contingency_table)\n",
    "print(f\"Chi-Square Statistic: {chi2}, p-value: {p}\")"
   ]
  },
  {
   "cell_type": "code",
   "execution_count": 53,
   "metadata": {},
   "outputs": [
    {
     "name": "stdout",
     "output_type": "stream",
     "text": [
      "Chi-Square Statistic: 481.31994780477555, p-value: 3.0387944126854228e-105\n"
     ]
    }
   ],
   "source": [
    "contingency_table = pd.crosstab(df['Coping_Struggles'], df['Mood_Swings'])\n",
    "\n",
    "# Perform Chi-Square Test for coping struggles and mood swings\n",
    "chi2, p, dof, expected = stats.chi2_contingency(contingency_table)\n",
    "print(f\"Chi-Square Statistic: {chi2}, p-value: {p}\")"
   ]
  },
  {
   "cell_type": "code",
   "execution_count": 54,
   "metadata": {},
   "outputs": [
    {
     "name": "stdout",
     "output_type": "stream",
     "text": [
      "Cramer's V: 0.040574668747623055\n"
     ]
    }
   ],
   "source": [
    "# Followup analysis: Cramer's V for the association between coping struggles and mood swings\n",
    "n = contingency_table.sum().sum()  # Total number of observations\n",
    "phi2 = chi2 / n\n",
    "r, k = contingency_table.shape\n",
    "cramers_v = np.sqrt(phi2 / min((r - 1), (k - 1)))\n",
    "\n",
    "print(f\"Cramer's V: {cramers_v}\")"
   ]
  },
  {
   "cell_type": "code",
   "execution_count": 55,
   "metadata": {},
   "outputs": [
    {
     "name": "stdout",
     "output_type": "stream",
     "text": [
      "Cramer's V: 0.040574668747623055\n"
     ]
    }
   ],
   "source": [
    "# Cramer V for Mental Health History and Growing Stress\n",
    "n = contingency_table.sum().sum()  # Total number of observations\n",
    "phi2 = chi2 / n\n",
    "r, k = contingency_table.shape\n",
    "cramers_v = np.sqrt(phi2 / min((r - 1), (k - 1)))\n",
    "print(f\"Cramer's V: {cramers_v}\")"
   ]
  },
  {
   "cell_type": "code",
   "execution_count": 56,
   "metadata": {},
   "outputs": [
    {
     "name": "stdout",
     "output_type": "stream",
     "text": [
      "Cramer's V: 0.040574668747623055\n"
     ]
    }
   ],
   "source": [
    "# Cramer V for Mood Swings and Growing Stress\n",
    "n = contingency_table.sum().sum()  # Total number of observations\n",
    "phi2 = chi2 / n\n",
    "r, k = contingency_table.shape\n",
    "cramers_v = np.sqrt(phi2 / min((r - 1), (k - 1)))\n",
    "print(f\"Cramer's V: {cramers_v}\")"
   ]
  },
  {
   "cell_type": "code",
   "execution_count": 19,
   "metadata": {},
   "outputs": [
    {
     "name": "stdout",
     "output_type": "stream",
     "text": [
      "Chi-Square Statistic: 40.13280143254459, p-value: 1.9287364910415813e-09\n",
      "Cramer's V: 0.011716227354391592\n"
     ]
    }
   ],
   "source": [
    "contingency_table = pd.crosstab(df['family_history'], df['Growing_Stress'])\n",
    "# Perform Chi-Square Test for family history and mood swings\n",
    "chi2, p, dof, expected = stats.chi2_contingency(contingency_table)\n",
    "print(f\"Chi-Square Statistic: {chi2}, p-value: {p}\")\n",
    "# Followup analysis: Cramer's V for the association between family history and growing stress\n",
    "n = contingency_table.sum().sum()  # Total number of observations\n",
    "phi2 = chi2 / n\n",
    "r, k = contingency_table.shape\n",
    "cramers_v = np.sqrt(phi2 / min((r - 1), (k - 1)))\n",
    "print(f\"Cramer's V: {cramers_v}\")"
   ]
  },
  {
   "cell_type": "code",
   "execution_count": 12,
   "metadata": {},
   "outputs": [],
   "source": [
    "# Encode onto a copy so we don't overide the original df\n",
    "df_encoded = df.copy()\n",
    "\n",
    "# 1. Gender\n",
    "gender_map = {'Female': 0, 'Male': 1}\n",
    "df_encoded['Gender'] = df['Gender'].map(gender_map)\n",
    "\n",
    "# 2. Occupation\n",
    "occupation_map = {\n",
    "    'Corporate': 0,\n",
    "    'Student': 1,\n",
    "    'Business': 2,\n",
    "    'Housewife': 3,\n",
    "    'Others': 4\n",
    "}\n",
    "df_encoded['Occupation'] = df['Occupation'].map(occupation_map)\n",
    "\n",
    "# 3. Self-Employed\n",
    "self_employed_map = {'No': 0, 'Yes': 1}\n",
    "df_encoded['self_employed'] = df['self_employed'].map(self_employed_map)\n",
    "\n",
    "# 4. Family History\n",
    "family_history_map = {'No': 0, 'Yes': 1}\n",
    "df_encoded['family_history'] = df['family_history'].map(family_history_map)\n",
    "\n",
    "# 5. Treatment\n",
    "treatment_map = {'Yes': 1, 'No': 0}\n",
    "df_encoded['treatment'] = df['treatment'].map(treatment_map)\n",
    "\n",
    "# 6. Days Indoors\n",
    "days_map = {\n",
    "    'Go out Every day': 0,\n",
    "    '1-14 days': 1,\n",
    "    '15-30 days': 2,\n",
    "    '31-60 days': 3,\n",
    "    'More than 2 months': 4\n",
    "}\n",
    "df_encoded['Days_Indoors'] = df['Days_Indoors'].map(days_map)\n",
    "\n",
    "# 7. Growing Stress\n",
    "stress_map = {'No': 0, 'Maybe': 1, 'Yes': 2}\n",
    "df_encoded['Growing_Stress'] = df['Growing_Stress'].map(stress_map)\n",
    "\n",
    "# 8. Changes Habits\n",
    "habits_map = {'No': 0, 'Maybe': 1, 'Yes': 2}\n",
    "df_encoded['Changes_Habits'] = df['Changes_Habits'].map(habits_map)\n",
    "\n",
    "# 9. Mental Health History\n",
    "mh_history_map = {'No': 0, 'Maybe': 1, 'Yes': 2}\n",
    "df_encoded['Mental_Health_History'] = df['Mental_Health_History'].map(mh_history_map)\n",
    "\n",
    "# 10. Mood Swings\n",
    "mood_map = {'Low': 0, 'Medium': 1, 'High': 2}\n",
    "df_encoded['Mood_Swings'] = df['Mood_Swings'].map(mood_map)\n",
    "\n",
    "# 11. Coping Struggles\n",
    "coping_map = {'No': 0, 'Yes': 1}\n",
    "df_encoded['Coping_Struggles'] = df['Coping_Struggles'].map(coping_map)\n",
    "\n",
    "# 12. Work Interest\n",
    "work_map = {'No': 0, 'Maybe': 1, 'Yes': 2}\n",
    "df_encoded['Work_Interest'] = df['Work_Interest'].map(work_map)\n",
    "\n",
    "# 13. Social Weakness\n",
    "social_map = {'No': 0, 'Maybe': 1, 'Yes': 2}\n",
    "df_encoded['Social_Weakness'] = df['Social_Weakness'].map(social_map)\n",
    "\n",
    "# 14. Mental Health Interview\n",
    "interview_map = {'No': 0, 'Maybe': 1, 'Yes': 2}\n",
    "df_encoded['mental_health_interview'] = df['mental_health_interview'].map(interview_map)\n",
    "\n",
    "# 15. Care Options\n",
    "care_map = {'No': 0, 'Not sure': 1, 'Yes': 2}\n",
    "df_encoded['care_options'] = df['care_options'].map(care_map)\n",
    "\n",
    "# Country remains unchanged\n",
    "df_encoded['Country'] = df['Country']\n",
    "\n",
    "# Keep these encodings in a seperate dictionary just in case\n",
    "encoding_maps = {\n",
    "    'Gender': gender_map,\n",
    "    'Occupation': occupation_map,\n",
    "    'self_employed': self_employed_map,\n",
    "    'family_history': family_history_map,\n",
    "    'treatment': treatment_map,\n",
    "    'Days_Indoors': days_map,\n",
    "    'Growing_Stress': stress_map,\n",
    "    'Changes_Habits': habits_map,\n",
    "    'Mental_Health_History': mh_history_map,\n",
    "    'Mood_Swings': mood_map,\n",
    "    'Coping_Struggles': coping_map,\n",
    "    'Work_Interest': work_map,\n",
    "    'Social_Weakness': social_map,\n",
    "    'mental_health_interview': interview_map,\n",
    "    'care_options': care_map\n",
    "}"
   ]
  },
  {
   "cell_type": "code",
   "execution_count": 16,
   "metadata": {},
   "outputs": [
    {
     "data": {
      "text/html": [
       "<div>\n",
       "<style scoped>\n",
       "    .dataframe tbody tr th:only-of-type {\n",
       "        vertical-align: middle;\n",
       "    }\n",
       "\n",
       "    .dataframe tbody tr th {\n",
       "        vertical-align: top;\n",
       "    }\n",
       "\n",
       "    .dataframe thead th {\n",
       "        text-align: right;\n",
       "    }\n",
       "</style>\n",
       "<table border=\"1\" class=\"dataframe\">\n",
       "  <thead>\n",
       "    <tr style=\"text-align: right;\">\n",
       "      <th></th>\n",
       "      <th>Gender</th>\n",
       "      <th>Country</th>\n",
       "      <th>Occupation</th>\n",
       "      <th>self_employed</th>\n",
       "      <th>family_history</th>\n",
       "      <th>treatment</th>\n",
       "      <th>Days_Indoors</th>\n",
       "      <th>Growing_Stress</th>\n",
       "      <th>Changes_Habits</th>\n",
       "      <th>Mental_Health_History</th>\n",
       "      <th>Mood_Swings</th>\n",
       "      <th>Coping_Struggles</th>\n",
       "      <th>Work_Interest</th>\n",
       "      <th>Social_Weakness</th>\n",
       "      <th>mental_health_interview</th>\n",
       "      <th>care_options</th>\n",
       "    </tr>\n",
       "  </thead>\n",
       "  <tbody>\n",
       "    <tr>\n",
       "      <th>0</th>\n",
       "      <td>0</td>\n",
       "      <td>United States</td>\n",
       "      <td>0</td>\n",
       "      <td>0</td>\n",
       "      <td>0</td>\n",
       "      <td>1</td>\n",
       "      <td>1</td>\n",
       "      <td>2</td>\n",
       "      <td>0</td>\n",
       "      <td>2</td>\n",
       "      <td>1</td>\n",
       "      <td>0</td>\n",
       "      <td>0</td>\n",
       "      <td>2</td>\n",
       "      <td>0</td>\n",
       "      <td>1</td>\n",
       "    </tr>\n",
       "    <tr>\n",
       "      <th>1</th>\n",
       "      <td>0</td>\n",
       "      <td>United States</td>\n",
       "      <td>0</td>\n",
       "      <td>0</td>\n",
       "      <td>1</td>\n",
       "      <td>1</td>\n",
       "      <td>1</td>\n",
       "      <td>2</td>\n",
       "      <td>0</td>\n",
       "      <td>2</td>\n",
       "      <td>1</td>\n",
       "      <td>0</td>\n",
       "      <td>0</td>\n",
       "      <td>2</td>\n",
       "      <td>0</td>\n",
       "      <td>0</td>\n",
       "    </tr>\n",
       "    <tr>\n",
       "      <th>2</th>\n",
       "      <td>0</td>\n",
       "      <td>United States</td>\n",
       "      <td>0</td>\n",
       "      <td>0</td>\n",
       "      <td>1</td>\n",
       "      <td>1</td>\n",
       "      <td>1</td>\n",
       "      <td>2</td>\n",
       "      <td>0</td>\n",
       "      <td>2</td>\n",
       "      <td>1</td>\n",
       "      <td>0</td>\n",
       "      <td>0</td>\n",
       "      <td>2</td>\n",
       "      <td>0</td>\n",
       "      <td>2</td>\n",
       "    </tr>\n",
       "    <tr>\n",
       "      <th>3</th>\n",
       "      <td>0</td>\n",
       "      <td>United States</td>\n",
       "      <td>0</td>\n",
       "      <td>0</td>\n",
       "      <td>1</td>\n",
       "      <td>1</td>\n",
       "      <td>1</td>\n",
       "      <td>2</td>\n",
       "      <td>0</td>\n",
       "      <td>2</td>\n",
       "      <td>1</td>\n",
       "      <td>0</td>\n",
       "      <td>0</td>\n",
       "      <td>2</td>\n",
       "      <td>1</td>\n",
       "      <td>2</td>\n",
       "    </tr>\n",
       "    <tr>\n",
       "      <th>4</th>\n",
       "      <td>0</td>\n",
       "      <td>United States</td>\n",
       "      <td>0</td>\n",
       "      <td>0</td>\n",
       "      <td>1</td>\n",
       "      <td>1</td>\n",
       "      <td>1</td>\n",
       "      <td>2</td>\n",
       "      <td>0</td>\n",
       "      <td>2</td>\n",
       "      <td>1</td>\n",
       "      <td>0</td>\n",
       "      <td>0</td>\n",
       "      <td>2</td>\n",
       "      <td>0</td>\n",
       "      <td>2</td>\n",
       "    </tr>\n",
       "  </tbody>\n",
       "</table>\n",
       "</div>"
      ],
      "text/plain": [
       "   Gender        Country  Occupation  self_employed  family_history  \\\n",
       "0       0  United States           0              0               0   \n",
       "1       0  United States           0              0               1   \n",
       "2       0  United States           0              0               1   \n",
       "3       0  United States           0              0               1   \n",
       "4       0  United States           0              0               1   \n",
       "\n",
       "   treatment  Days_Indoors  Growing_Stress  Changes_Habits  \\\n",
       "0          1             1               2               0   \n",
       "1          1             1               2               0   \n",
       "2          1             1               2               0   \n",
       "3          1             1               2               0   \n",
       "4          1             1               2               0   \n",
       "\n",
       "   Mental_Health_History  Mood_Swings  Coping_Struggles  Work_Interest  \\\n",
       "0                      2            1                 0              0   \n",
       "1                      2            1                 0              0   \n",
       "2                      2            1                 0              0   \n",
       "3                      2            1                 0              0   \n",
       "4                      2            1                 0              0   \n",
       "\n",
       "   Social_Weakness  mental_health_interview  care_options  \n",
       "0                2                        0             1  \n",
       "1                2                        0             0  \n",
       "2                2                        0             2  \n",
       "3                2                        1             2  \n",
       "4                2                        0             2  "
      ]
     },
     "execution_count": 16,
     "metadata": {},
     "output_type": "execute_result"
    }
   ],
   "source": [
    "df_encoded.head()"
   ]
  },
  {
   "cell_type": "code",
   "execution_count": 15,
   "metadata": {},
   "outputs": [],
   "source": [
    "# export this as a new csv file\n",
    "df_encoded.to_csv(\"data/processed/Mental_Health_Dataset_Encoded.csv\", index=False)"
   ]
  }
 ],
 "metadata": {
  "kernelspec": {
   "display_name": "Python 3",
   "language": "python",
   "name": "python3"
  },
  "language_info": {
   "codemirror_mode": {
    "name": "ipython",
    "version": 3
   },
   "file_extension": ".py",
   "mimetype": "text/x-python",
   "name": "python",
   "nbconvert_exporter": "python",
   "pygments_lexer": "ipython3",
   "version": "3.13.1"
  }
 },
 "nbformat": 4,
 "nbformat_minor": 2
}
