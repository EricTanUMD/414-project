{
 "cells": [
  {
   "cell_type": "markdown",
   "id": "16b24b93",
   "metadata": {},
   "source": [
    "# Training A Logistic Regression Model For Analysis  "
   ]
  },
  {
   "cell_type": "code",
   "execution_count": 33,
   "id": "bb00d34e",
   "metadata": {},
   "outputs": [],
   "source": [
    "import pandas as pd\n",
    "import statsmodels.api as sm\n",
    "import matplotlib.pyplot as plt\n",
    "import seaborn as sns\n",
    "import os\n",
    "from sklearn.model_selection import train_test_split\n",
    "from sklearn.linear_model import LogisticRegression\n",
    "from sklearn.metrics import classification_report\n",
    "from sklearn.preprocessing import StandardScaler"
   ]
  },
  {
   "cell_type": "code",
   "execution_count": 2,
   "id": "5f371c02",
   "metadata": {},
   "outputs": [
    {
     "name": "stdout",
     "output_type": "stream",
     "text": [
      "c:\\Users\\erict\\Downloads\\Courses\\Spring 2025\\INST414\\414 project\\models\n"
     ]
    }
   ],
   "source": [
    "print(os.getcwd())"
   ]
  },
  {
   "cell_type": "code",
   "execution_count": null,
   "id": "3a544748",
   "metadata": {},
   "outputs": [
    {
     "data": {
      "text/html": [
       "<div>\n",
       "<style scoped>\n",
       "    .dataframe tbody tr th:only-of-type {\n",
       "        vertical-align: middle;\n",
       "    }\n",
       "\n",
       "    .dataframe tbody tr th {\n",
       "        vertical-align: top;\n",
       "    }\n",
       "\n",
       "    .dataframe thead th {\n",
       "        text-align: right;\n",
       "    }\n",
       "</style>\n",
       "<table border=\"1\" class=\"dataframe\">\n",
       "  <thead>\n",
       "    <tr style=\"text-align: right;\">\n",
       "      <th></th>\n",
       "      <th>Gender</th>\n",
       "      <th>Country</th>\n",
       "      <th>self_employed</th>\n",
       "      <th>family_history</th>\n",
       "      <th>treatment</th>\n",
       "      <th>Days_Indoors</th>\n",
       "      <th>Growing_Stress</th>\n",
       "      <th>Changes_Habits</th>\n",
       "      <th>Mental_Health_History</th>\n",
       "      <th>Mood_Swings</th>\n",
       "      <th>Coping_Struggles</th>\n",
       "      <th>Work_Interest</th>\n",
       "      <th>care_options</th>\n",
       "      <th>Occupation_Corporate</th>\n",
       "      <th>Occupation_Housewife</th>\n",
       "      <th>Occupation_Others</th>\n",
       "      <th>Occupation_Student</th>\n",
       "      <th>Social_Weakness_No</th>\n",
       "      <th>Social_Weakness_Yes</th>\n",
       "      <th>mental_health_interview_No</th>\n",
       "      <th>mental_health_interview_Yes</th>\n",
       "    </tr>\n",
       "  </thead>\n",
       "  <tbody>\n",
       "    <tr>\n",
       "      <th>0</th>\n",
       "      <td>0</td>\n",
       "      <td>United States</td>\n",
       "      <td>0</td>\n",
       "      <td>0</td>\n",
       "      <td>1</td>\n",
       "      <td>1</td>\n",
       "      <td>2</td>\n",
       "      <td>0</td>\n",
       "      <td>2</td>\n",
       "      <td>1</td>\n",
       "      <td>0</td>\n",
       "      <td>0</td>\n",
       "      <td>1</td>\n",
       "      <td>1</td>\n",
       "      <td>0</td>\n",
       "      <td>0</td>\n",
       "      <td>0</td>\n",
       "      <td>0</td>\n",
       "      <td>1</td>\n",
       "      <td>1</td>\n",
       "      <td>0</td>\n",
       "    </tr>\n",
       "    <tr>\n",
       "      <th>1</th>\n",
       "      <td>0</td>\n",
       "      <td>United States</td>\n",
       "      <td>0</td>\n",
       "      <td>1</td>\n",
       "      <td>1</td>\n",
       "      <td>1</td>\n",
       "      <td>2</td>\n",
       "      <td>0</td>\n",
       "      <td>2</td>\n",
       "      <td>1</td>\n",
       "      <td>0</td>\n",
       "      <td>0</td>\n",
       "      <td>0</td>\n",
       "      <td>1</td>\n",
       "      <td>0</td>\n",
       "      <td>0</td>\n",
       "      <td>0</td>\n",
       "      <td>0</td>\n",
       "      <td>1</td>\n",
       "      <td>1</td>\n",
       "      <td>0</td>\n",
       "    </tr>\n",
       "    <tr>\n",
       "      <th>2</th>\n",
       "      <td>0</td>\n",
       "      <td>United States</td>\n",
       "      <td>0</td>\n",
       "      <td>1</td>\n",
       "      <td>1</td>\n",
       "      <td>1</td>\n",
       "      <td>2</td>\n",
       "      <td>0</td>\n",
       "      <td>2</td>\n",
       "      <td>1</td>\n",
       "      <td>0</td>\n",
       "      <td>0</td>\n",
       "      <td>2</td>\n",
       "      <td>1</td>\n",
       "      <td>0</td>\n",
       "      <td>0</td>\n",
       "      <td>0</td>\n",
       "      <td>0</td>\n",
       "      <td>1</td>\n",
       "      <td>1</td>\n",
       "      <td>0</td>\n",
       "    </tr>\n",
       "    <tr>\n",
       "      <th>3</th>\n",
       "      <td>0</td>\n",
       "      <td>United States</td>\n",
       "      <td>0</td>\n",
       "      <td>1</td>\n",
       "      <td>1</td>\n",
       "      <td>1</td>\n",
       "      <td>2</td>\n",
       "      <td>0</td>\n",
       "      <td>2</td>\n",
       "      <td>1</td>\n",
       "      <td>0</td>\n",
       "      <td>0</td>\n",
       "      <td>2</td>\n",
       "      <td>1</td>\n",
       "      <td>0</td>\n",
       "      <td>0</td>\n",
       "      <td>0</td>\n",
       "      <td>0</td>\n",
       "      <td>1</td>\n",
       "      <td>0</td>\n",
       "      <td>0</td>\n",
       "    </tr>\n",
       "    <tr>\n",
       "      <th>4</th>\n",
       "      <td>0</td>\n",
       "      <td>United States</td>\n",
       "      <td>0</td>\n",
       "      <td>1</td>\n",
       "      <td>1</td>\n",
       "      <td>1</td>\n",
       "      <td>2</td>\n",
       "      <td>0</td>\n",
       "      <td>2</td>\n",
       "      <td>1</td>\n",
       "      <td>0</td>\n",
       "      <td>0</td>\n",
       "      <td>2</td>\n",
       "      <td>1</td>\n",
       "      <td>0</td>\n",
       "      <td>0</td>\n",
       "      <td>0</td>\n",
       "      <td>0</td>\n",
       "      <td>1</td>\n",
       "      <td>1</td>\n",
       "      <td>0</td>\n",
       "    </tr>\n",
       "  </tbody>\n",
       "</table>\n",
       "</div>"
      ],
      "text/plain": [
       "   Gender        Country  self_employed  family_history  treatment  \\\n",
       "0       0  United States              0               0          1   \n",
       "1       0  United States              0               1          1   \n",
       "2       0  United States              0               1          1   \n",
       "3       0  United States              0               1          1   \n",
       "4       0  United States              0               1          1   \n",
       "\n",
       "   Days_Indoors  Growing_Stress  Changes_Habits  Mental_Health_History  \\\n",
       "0             1               2               0                      2   \n",
       "1             1               2               0                      2   \n",
       "2             1               2               0                      2   \n",
       "3             1               2               0                      2   \n",
       "4             1               2               0                      2   \n",
       "\n",
       "   Mood_Swings  Coping_Struggles  Work_Interest  care_options  \\\n",
       "0            1                 0              0             1   \n",
       "1            1                 0              0             0   \n",
       "2            1                 0              0             2   \n",
       "3            1                 0              0             2   \n",
       "4            1                 0              0             2   \n",
       "\n",
       "   Occupation_Corporate  Occupation_Housewife  Occupation_Others  \\\n",
       "0                     1                     0                  0   \n",
       "1                     1                     0                  0   \n",
       "2                     1                     0                  0   \n",
       "3                     1                     0                  0   \n",
       "4                     1                     0                  0   \n",
       "\n",
       "   Occupation_Student  Social_Weakness_No  Social_Weakness_Yes  \\\n",
       "0                   0                   0                    1   \n",
       "1                   0                   0                    1   \n",
       "2                   0                   0                    1   \n",
       "3                   0                   0                    1   \n",
       "4                   0                   0                    1   \n",
       "\n",
       "   mental_health_interview_No  mental_health_interview_Yes  \n",
       "0                           1                            0  \n",
       "1                           1                            0  \n",
       "2                           1                            0  \n",
       "3                           0                            0  \n",
       "4                           1                            0  "
      ]
     },
     "execution_count": 3,
     "metadata": {},
     "output_type": "execute_result"
    }
   ],
   "source": [
    "df = pd.read_csv('../data/processed/Mental_Health_Dataset_Encoded.csv') # load the encoded dataset for model training\n",
    "pd.set_option('display.max_columns', None)\n",
    "df.head()"
   ]
  },
  {
   "cell_type": "code",
   "execution_count": null,
   "id": "d87347b6",
   "metadata": {},
   "outputs": [
    {
     "name": "stdout",
     "output_type": "stream",
     "text": [
      "              precision    recall  f1-score   support\n",
      "\n",
      "           0       0.71      0.65      0.68     28937\n",
      "           1       0.69      0.74      0.71     29536\n",
      "\n",
      "    accuracy                           0.70     58473\n",
      "   macro avg       0.70      0.70      0.70     58473\n",
      "weighted avg       0.70      0.70      0.70     58473\n",
      "\n"
     ]
    }
   ],
   "source": [
    "# logisitc regression to \"predict\" if a person will receive treatment or not\n",
    "X = df.drop(columns=['treatment', 'Country'], axis=1)\n",
    "y = df['treatment']\n",
    "\n",
    "X = sm.add_constant(X) # add a constant to the model\n",
    "X_train, X_test, y_train, y_test = train_test_split(X, y, test_size=0.2, random_state=414)\n",
    "model = LogisticRegression(max_iter=100)\n",
    "model.fit(X_train, y_train) # fit the model to the training data\n",
    "\n",
    "#evaluate the model\n",
    "y_pred = model.predict(X_test) # make predictions on the test data\n",
    "print(classification_report(y_test, y_pred)) # print the classification report\n",
    "# remember, 0 is no treatment, 1 is treatment"
   ]
  },
  {
   "cell_type": "code",
   "execution_count": 18,
   "id": "4a4deee2",
   "metadata": {},
   "outputs": [
    {
     "name": "stdout",
     "output_type": "stream",
     "text": [
      "                        Feature  Coefficient\n",
      "3                family_history     1.489103\n",
      "19  mental_health_interview_Yes     0.747195\n",
      "11                 care_options     0.565808\n",
      "18   mental_health_interview_No     0.490123\n",
      "2                 self_employed     0.297440\n",
      "12         Occupation_Corporate     0.008454\n",
      "9              Coping_Struggles     0.005472\n",
      "14            Occupation_Others     0.004442\n",
      "10                Work_Interest     0.002322\n",
      "16           Social_Weakness_No     0.002210\n",
      "15           Occupation_Student     0.001344\n",
      "5                Growing_Stress     0.001079\n",
      "6                Changes_Habits     0.000957\n",
      "4                  Days_Indoors    -0.000100\n",
      "8                   Mood_Swings    -0.000422\n",
      "7         Mental_Health_History    -0.000530\n",
      "17          Social_Weakness_Yes    -0.001574\n",
      "13         Occupation_Housewife    -0.002643\n",
      "0                         const    -0.518882\n",
      "1                        Gender    -0.575277\n"
     ]
    }
   ],
   "source": [
    "# feature importance\n",
    "coefficients = pd.DataFrame({\n",
    "    'Feature': X.columns,\n",
    "    'Coefficient': model.coef_[0]\n",
    "}).sort_values(by='Coefficient', ascending=False)\n",
    "\n",
    "print(coefficients)"
   ]
  },
  {
   "cell_type": "code",
   "execution_count": null,
   "id": "8fd53f86",
   "metadata": {},
   "outputs": [
    {
     "name": "stdout",
     "output_type": "stream",
     "text": [
      "              precision    recall  f1-score   support\n",
      "\n",
      "           0       0.71      0.65      0.68     28937\n",
      "           1       0.69      0.74      0.71     29536\n",
      "\n",
      "    accuracy                           0.70     58473\n",
      "   macro avg       0.70      0.70      0.70     58473\n",
      "weighted avg       0.70      0.70      0.70     58473\n",
      "\n"
     ]
    }
   ],
   "source": [
    "# This time, we remake the model with the most important features\n",
    "important_features = ['family_history', 'mental_health_interview_Yes', 'mental_health_interview_No', 'care_options',\n",
    "                      'self_employed', 'Gender']\n",
    "X_important = df[important_features]\n",
    "y_important = df['treatment']\n",
    "X_important = sm.add_constant(X_important) # add a constant to the model\n",
    "X_train_important, X_test_important, y_train_important, y_test_important = train_test_split(X_important, y_important, \n",
    "                                                                                            test_size=0.2, random_state=414)\n",
    "# introduce elastic net regularization to the model\n",
    "model_important = LogisticRegression(penalty='elasticnet', solver = 'saga', l1_ratio=0.12, max_iter=1000) \n",
    "model_important.fit(X_train_important, y_train_important) # fit the model to the training data\n",
    "\n",
    "# evaluate the model\n",
    "y_pred_important = model_important.predict(X_test_important) # make predictions on the test data\n",
    "print(classification_report(y_test_important, y_pred_important)) # print the classification report"
   ]
  },
  {
   "cell_type": "code",
   "execution_count": null,
   "id": "d98f02c3",
   "metadata": {},
   "outputs": [
    {
     "data": {
      "text/plain": [
       "Text(0.5, 1.0, 'Confusion Matrix for Logistic Regression')"
      ]
     },
     "execution_count": 41,
     "metadata": {},
     "output_type": "execute_result"
    },
    {
     "data": {
      "image/png": "[encoded data removed]",
      "text/plain": [
       "<Figure size 640x480 with 2 Axes>"
      ]
     },
     "metadata": {},
     "output_type": "display_data"
    }
   ],
   "source": [
    "# Confusion matrix\n",
    "from sklearn.metrics import ConfusionMatrixDisplay\n",
    "ConfusionMatrixDisplay.from_estimator(model_important, X_test_important, y_test_important) \n",
    "plt.title('Confusion Matrix for Logistic Regression')"
   ]
  },
  {
   "cell_type": "code",
   "execution_count": 43,
   "id": "5b196e3c",
   "metadata": {},
   "outputs": [
    {
     "data": {
      "image/png": "[encoded data removed]",
      "text/plain": [
       "<Figure size 1000x600 with 1 Axes>"
      ]
     },
     "metadata": {},
     "output_type": "display_data"
    }
   ],
   "source": [
    "from sklearn.inspection import permutation_importance\n",
    "results = permutation_importance(model_important, X_test_important, y_test_important, scoring='accuracy')\n",
    "# plot the shape values\n",
    "sorted_idx = results.importances_mean.argsort()[::-1]\n",
    "plt.figure(figsize=(10, 6))\n",
    "plt.barh(X_important.columns[sorted_idx], results.importances_mean[sorted_idx], xerr=results.importances_std[sorted_idx])\n",
    "plt.xlabel(\"Permutation Importance\")\n",
    "plt.title(\"Permutation Importance of Features\")\n",
    "plt.show()"
   ]
  }
 ],
 "metadata": {
  "kernelspec": {
   "display_name": "Python 3",
   "language": "python",
   "name": "python3"
  },
  "language_info": {
   "codemirror_mode": {
    "name": "ipython",
    "version": 3
   },
   "file_extension": ".py",
   "mimetype": "text/x-python",
   "name": "python",
   "nbconvert_exporter": "python",
   "pygments_lexer": "ipython3",
   "version": "3.13.1"
  }
 },
 "nbformat": 4,
 "nbformat_minor": 5
}
