{
 "cells": [
  {
   "cell_type": "markdown",
   "id": "16b24b93",
   "metadata": {},
   "source": [
    "# Training A OLS Model For Analysis  "
   ]
  },
  {
   "cell_type": "code",
   "execution_count": null,
   "id": "bb00d34e",
   "metadata": {},
   "outputs": [],
   "source": [
    "import pandas as pd\n",
    "import numpy as np\n",
    "import seaborn as sns # for data viz for handling outliers\n",
    "import matplotlib.pyplot as plt # for data viz\n",
    "import scipy.stats as stats\n",
    "import os"
   ]
  },
  {
   "cell_type": "code",
   "execution_count": null,
   "id": "3a544748",
   "metadata": {},
   "outputs": [],
   "source": []
  }
 ],
 "metadata": {
  "language_info": {
   "name": "python"
  }
 },
 "nbformat": 4,
 "nbformat_minor": 5
}
